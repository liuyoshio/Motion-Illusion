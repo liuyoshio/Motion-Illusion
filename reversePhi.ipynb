{
 "cells": [
  {
   "cell_type": "code",
   "execution_count": 1,
   "metadata": {},
   "outputs": [],
   "source": [
    "import cv2\n",
    "import matplotlib.pyplot as plt\n",
    "import numpy as np\n",
    "import math\n",
    "import imageio"
   ]
  },
  {
   "cell_type": "code",
   "execution_count": 2,
   "metadata": {},
   "outputs": [
    {
     "name": "stdout",
     "output_type": "stream",
     "text": [
      "(270, 197)\n"
     ]
    }
   ],
   "source": [
    "image = cv2.imread(\"flower.png\")\n",
    "rgb = cv2.cvtColor(image, cv2.COLOR_BGR2RGB)\n",
    "\n",
    "lower_bound = np.array([50,50,50])\n",
    "higher_bound = np.array([255,255,255])\n",
    "mask = cv2.inRange(rgb, lower_bound, higher_bound)\n",
    "\n",
    "print(mask.shape)\n",
    "height, width, _ = image.shape\n",
    "\n",
    "def shiftMask(mask, stride):\n",
    "    leftMask = np.zeros((height, width))\n",
    "    rightMask = np.zeros((height, width))\n",
    "    _, column = mask.shape\n",
    "    \n",
    "    for c in range(column):\n",
    "        if (c >= column-stride):\n",
    "            rightMask[:, c-column+stride] = mask[:, c]\n",
    "        else:\n",
    "            rightMask[:, c+stride] = mask[:, c]\n",
    "            \n",
    "    for c in range(column):\n",
    "        if (c <= stride-1):\n",
    "            leftMask[:, column-stride+c] = mask[:, c]\n",
    "        else:\n",
    "            leftMask[:, c-stride] = mask[:, c]\n",
    "\n",
    "    return leftMask, rightMask\n",
    "\n",
    "leftMask, rightMask = shiftMask(mask,3)\n"
   ]
  },
  {
   "cell_type": "code",
   "execution_count": 3,
   "metadata": {},
   "outputs": [],
   "source": [
    "def generateRGB(x):\n",
    "    R = int(127.5 * math.sin(2*math.pi/1000 * (x+250)) + 127.5)\n",
    "    G = int(127.5 * math.sin(2*math.pi/1000 * (x)) + 127.5)\n",
    "    B = int(127.5 * math.sin(2*math.pi/1000 * (x+500)) + 127.5)\n",
    "    return R,G,B"
   ]
  },
  {
   "cell_type": "code",
   "execution_count": 4,
   "metadata": {},
   "outputs": [],
   "source": [
    "import imageio\n",
    "images = []\n",
    "\n",
    "\n",
    "kernel = np.ones((3,3), np.float32)/9\n",
    "step = -150\n",
    "for x in range(5000, 0, step):\n",
    "    newImage = image.copy()\n",
    "    newImage[mask == 0] = (127, 127, 127)\n",
    "    newImage[leftMask > 0] = generateRGB(x+step)\n",
    "    newImage[rightMask > 0] = generateRGB(x-step)\n",
    "    newImage[mask > 0] = generateRGB(x)\n",
    "    dst = cv2.filter2D(newImage,-1,kernel)\n",
    "    images.append(dst)\n",
    "imageio.mimsave('flower.gif', images)"
   ]
  }
 ],
 "metadata": {
  "interpreter": {
   "hash": "5f4bd170b422f46b2312e3be14e9148719c6561cc76b615fcddc6496a36ef05d"
  },
  "kernelspec": {
   "display_name": "Python 3.9.12 ('base')",
   "language": "python",
   "name": "python3"
  },
  "language_info": {
   "codemirror_mode": {
    "name": "ipython",
    "version": 3
   },
   "file_extension": ".py",
   "mimetype": "text/x-python",
   "name": "python",
   "nbconvert_exporter": "python",
   "pygments_lexer": "ipython3",
   "version": "3.9.12"
  },
  "orig_nbformat": 4
 },
 "nbformat": 4,
 "nbformat_minor": 2
}
