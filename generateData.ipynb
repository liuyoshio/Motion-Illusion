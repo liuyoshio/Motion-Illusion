{
 "cells": [
  {
   "cell_type": "code",
   "execution_count": 200,
   "metadata": {},
   "outputs": [],
   "source": [
    "import cv2\n",
    "import numpy as np\n",
    "import matplotlib.pyplot as plt\n",
    "import imageio"
   ]
  },
  {
   "cell_type": "code",
   "execution_count": 194,
   "metadata": {},
   "outputs": [
    {
     "data": {
      "text/plain": [
       "(177, 54, 8)"
      ]
     },
     "execution_count": 194,
     "metadata": {},
     "output_type": "execute_result"
    }
   ],
   "source": [
    "def randomRGB():\n",
    "    color = tuple(np.random.randint(0, 255, size=(3, )))\n",
    "    color = ( int(color[0]), int(color[1]), int(color[2])) \n",
    "    return color\n",
    "\n",
    "randomRGB()"
   ]
  },
  {
   "cell_type": "code",
   "execution_count": 203,
   "metadata": {},
   "outputs": [],
   "source": [
    "canvas = np.zeros((128,128,3), np.uint8)"
   ]
  },
  {
   "cell_type": "code",
   "execution_count": 215,
   "metadata": {},
   "outputs": [],
   "source": [
    "def genPositions():\n",
    "    positions = []\n",
    "    \n",
    "    pos = tuple(np.random.randint(48, 80, size=(2, )))\n",
    "    velocity = tuple(np.random.randint(-16,16,size=(2,)))\n",
    "    \n",
    "    positions.append(pos)\n",
    "    for i in range(15):\n",
    "        pos = (pos[0]+velocity[0], pos[1]+velocity[1])\n",
    "        positions.append(pos)\n",
    "    return positions"
   ]
  },
  {
   "cell_type": "code",
   "execution_count": 216,
   "metadata": {},
   "outputs": [],
   "source": [
    "canvas[:,:] = randomRGB()\n",
    "color = randomRGB()\n",
    "positions = genPositions()\n",
    "images = []\n",
    "for pos in positions:\n",
    "    temp = canvas.copy()\n",
    "    cv2.circle(temp, pos, 15, color, -1)\n",
    "    images.append(temp)\n",
    "\n",
    "imageio.mimsave('test.gif', images)"
   ]
  }
 ],
 "metadata": {
  "interpreter": {
   "hash": "5f4bd170b422f46b2312e3be14e9148719c6561cc76b615fcddc6496a36ef05d"
  },
  "kernelspec": {
   "display_name": "Python 3.9.12 ('base')",
   "language": "python",
   "name": "python3"
  },
  "language_info": {
   "codemirror_mode": {
    "name": "ipython",
    "version": 3
   },
   "file_extension": ".py",
   "mimetype": "text/x-python",
   "name": "python",
   "nbconvert_exporter": "python",
   "pygments_lexer": "ipython3",
   "version": "3.9.12"
  },
  "orig_nbformat": 4
 },
 "nbformat": 4,
 "nbformat_minor": 2
}
